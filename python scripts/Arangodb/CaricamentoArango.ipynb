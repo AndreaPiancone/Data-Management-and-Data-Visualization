{
 "cells": [
  {
   "cell_type": "code",
   "execution_count": 1,
   "metadata": {},
   "outputs": [],
   "source": [
    "import json\n",
    "import time\n",
    "from pyArango.connection import *\n",
    "import re"
   ]
  },
  {
   "cell_type": "code",
   "execution_count": 2,
   "metadata": {},
   "outputs": [],
   "source": [
    "def fit_key(name):\n",
    "    name = name.replace(\"é\", \"e\")\n",
    "    name = name.replace(\"ñ\", \"n\")\n",
    "    name = name.replace(\"ū\", \"u\")\n",
    "    name = name.replace(\"ò\", \"o\")\n",
    "    name = name.replace(\"ó\", \"o\")\n",
    "    name = name.replace(\"á\", \"a\")\n",
    "    name = name.replace(\"ō\", \"o\")\n",
    "    name = name.replace(\"ö\", \"o\")\n",
    "    name = name.replace(\"à\", \"a\")\n",
    "    name = name.replace(\"ǎ\", \"a\")\n",
    "    name = name.replace(\"Ō\", \"O\")\n",
    "    name = name.replace(\"ü\", \"u\")\n",
    "    name = name.replace(\"x²\", \"x\")\n",
    "    name = name.replace(\"ô\", \"o\")\n",
    "    name = name.replace(\"û\", \"u\")\n",
    "    name = name.replace(\"ç\", \"c\")\n",
    "    name = name.replace(\"ä\", \"a\")\n",
    "    name = name.replace(\"ī\", \"i\")\n",
    "    name = name.replace(\"ā\", \"a\")\n",
    "    name = name.replace(\"u²\", \"u\")\n",
    "    name = name.replace(\"ê\", \"e\")\n",
    "    return(name)"
   ]
  },
  {
   "cell_type": "code",
   "execution_count": 3,
   "metadata": {},
   "outputs": [],
   "source": [
    "with open('documents.json') as f:\n",
    "    doc = json.load(f)"
   ]
  },
  {
   "cell_type": "code",
   "execution_count": 4,
   "metadata": {},
   "outputs": [],
   "source": [
    "with open('edges.json') as f:\n",
    "    edges = json.load(f)"
   ]
  },
  {
   "cell_type": "code",
   "execution_count": 5,
   "metadata": {},
   "outputs": [],
   "source": [
    "conn = Connection(username = \"root\", password = \"arango\") #apro la connessione con arangodb"
   ]
  },
  {
   "cell_type": "code",
   "execution_count": 6,
   "metadata": {},
   "outputs": [],
   "source": [
    "#conn.createDatabase(name=\"GamesDB\") #creazione del DB"
   ]
  },
  {
   "cell_type": "code",
   "execution_count": 7,
   "metadata": {},
   "outputs": [],
   "source": [
    "db = conn[\"GamesDB\"] #mi connetto al database \"GamesDB\""
   ]
  },
  {
   "cell_type": "code",
   "execution_count": 8,
   "metadata": {},
   "outputs": [],
   "source": [
    "collection = db.createCollection(name=\"games\") #creo la collezione games\""
   ]
  },
  {
   "cell_type": "code",
   "execution_count": 9,
   "metadata": {},
   "outputs": [],
   "source": [
    "for i in doc:\n",
    "    document = collection.createDocument()\n",
    "    document['name'] = i['name']\n",
    "    document['genres'] = i['genres']\n",
    "    document['themes'] = i['themes']\n",
    "    document['characters'] = i['characters']\n",
    "    document['dlcs'] = i['dlcs']\n",
    "    document['game_modes'] = i['game_modes']\n",
    "    document['views'] = i['views']\n",
    "    document['age_ratings'] = i['age_rating']\n",
    "    document['release_year'] = i['original_release_date']\n",
    "    document['pubblication_year'] = i['anno_pubblicazione']\n",
    "    document['platforms'] = i['platforms']\n",
    "    document._key = re.sub(r'\\W+', '', i['name']).replace(\"é\", \"\").replace(\"ñ\", \"n\")\n",
    "    document.save()"
   ]
  },
  {
   "cell_type": "code",
   "execution_count": 10,
   "metadata": {},
   "outputs": [],
   "source": [
    "archi = db.createCollection(className = \"Edges\", name = \"archi\") #creazione della collezione contente gli archi"
   ]
  },
  {
   "cell_type": "code",
   "execution_count": 11,
   "metadata": {},
   "outputs": [],
   "source": [
    "for i in edges:\n",
    "    doc = archi.createEdge()\n",
    "    doc['_from'] = \"games/\" + re.sub(r'\\W+', '', i['_from'][6:]).replace(\"é\", \"\").replace(\"ñ\", \"n\")\n",
    "    doc['_to'] = \"games/\" + fit_key(re.sub(r'\\W+', '', i['_to'][6:]))\n",
    "    doc.save()"
   ]
  }
 ],
 "metadata": {
  "kernelspec": {
   "display_name": "Python 3",
   "language": "python",
   "name": "python3"
  },
  "language_info": {
   "codemirror_mode": {
    "name": "ipython",
    "version": 3
   },
   "file_extension": ".py",
   "mimetype": "text/x-python",
   "name": "python",
   "nbconvert_exporter": "python",
   "pygments_lexer": "ipython3",
   "version": "3.7.3"
  }
 },
 "nbformat": 4,
 "nbformat_minor": 2
}

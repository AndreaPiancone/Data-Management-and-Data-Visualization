{
 "cells": [
  {
   "cell_type": "markdown",
   "metadata": {},
   "source": [
    "# GiantBomb"
   ]
  },
  {
   "cell_type": "markdown",
   "metadata": {},
   "source": [
    "## Introduzione\n",
    "\n",
    "<hr style=\"height:1px;border-top:1px solid #f00\" />"
   ]
  },
  {
   "cell_type": "markdown",
   "metadata": {},
   "source": [
    "In questo notebook (sua versione primordiale), si procede ad estrrare una serie di attrributi relativi ad un videogame, sfruttando le api di giantbomb.\n",
    "In particolare, si estraggono i seguenti attributi:\n",
    "\n",
    "* name;\n",
    "* genres;\n",
    "* platforms;\n",
    "* similar games;\n",
    "* themes;\n",
    "* developers;\n",
    "* deck;\n",
    "* characters\n",
    "* dlcs"
   ]
  },
  {
   "cell_type": "markdown",
   "metadata": {},
   "source": [
    "## Funzioni \n",
    "\n",
    "<hr style=\"height:1px;border-top:1px solid #f00\" />"
   ]
  },
  {
   "cell_type": "markdown",
   "metadata": {},
   "source": [
    "Si caricano le librerie necessarie."
   ]
  },
  {
   "cell_type": "code",
   "execution_count": 1,
   "metadata": {},
   "outputs": [],
   "source": [
    "import json\n",
    "import requests\n",
    "import urllib.parse\n",
    "import pandas as pd\n",
    "import time"
   ]
  },
  {
   "cell_type": "markdown",
   "metadata": {},
   "source": [
    "Si definiscono le \"credenziali\" per poter intrrogre gli endpoints dell'API."
   ]
  },
  {
   "cell_type": "code",
   "execution_count": 2,
   "metadata": {},
   "outputs": [],
   "source": [
    "headers = {\"User-Agent\": \"Mozilla/5.0 (Windows NT 10.0; Win64; x64) AppleWebKit/537.36 (KHTML, like Gecko) Chrome/83.0.4103.116 Safari/537.36\"}\n",
    "api_key = \"761bdb891cb98f39aa2d8cbf2b62cf3acba8d1af\""
   ]
  },
  {
   "cell_type": "markdown",
   "metadata": {},
   "source": [
    "Si definisce una funzione chiamata **delete_keys_from_dict** per eliminare chiavi superflue da un dizioanrio, al fine di aumentare la leggibilità del dataset"
   ]
  },
  {
   "cell_type": "code",
   "execution_count": 3,
   "metadata": {},
   "outputs": [],
   "source": [
    "def delete_keys_from_dict(res, to_delete):\n",
    "    if isinstance(to_delete, str):\n",
    "        to_delete = ['api_detail_url','site_detail_url', 'id']\n",
    "    if isinstance(res, dict):\n",
    "        for single_to_delete in set(to_delete):\n",
    "            if single_to_delete in res:\n",
    "                del res[single_to_delete]\n",
    "        for k, v in res.items():\n",
    "            delete_keys_from_dict(v, to_delete)\n",
    "    elif isinstance(res, list):\n",
    "        for i in res:\n",
    "            delete_keys_from_dict(i, to_delete)\n",
    "    return res"
   ]
  },
  {
   "cell_type": "markdown",
   "metadata": {},
   "source": [
    "La funzione **get_company** ha lo scopo di estrarre ulteriori informazioni in merito alla casa produttrice di un videogames. In particolare estrae i seguenti attributi:\n",
    "\n",
    "* Date_founded: data di fondazione dell'azienda;\n",
    "* Developed_Games: giochi sviluppati dall'azienda;\n",
    "* Location_country: Nazione dell'azienda;\n",
    "* Name: nome dell'azienda.\n",
    "\n",
    "La funzione, dato in ingresso contente le informazioni della compgana che si ottengono tramite l'endpoint *game*, grazie ad una chiamata all'opportuno endpoint *company* (contattato grazie a diz['api_detail_url']), consente di ricavare le informazioni ritenute interessanti e poi le sottopone ad una operazione di pulizia. Ossia, si rimuovono campi superflui e della data di fondazione si mantiene solo l'anno, il mese ed il giorno."
   ]
  },
  {
   "cell_type": "code",
   "execution_count": 4,
   "metadata": {},
   "outputs": [],
   "source": [
    "def get_company(diz):\n",
    "    fields = \"date_founded,developed_games,location_country,name\"\n",
    "    api_url = diz['api_detail_url']\n",
    "    API_ENDPOINT = api_url + \"?api_key=\" + api_key + \"&format=json&field_list=\" + fields\n",
    "    r_company = requests.get(API_ENDPOINT, headers = headers)\n",
    "    def_company = r_company.json()['results']\n",
    "    def_company['developed_games'] = delete_keys_from_dict(def_company['developed_games']\n",
    "                                                           ,['api_detail_url','site_detail_url'])\n",
    "    if def_company['date_founded'] is not None:\n",
    "        def_company['date_founded'] = str(pd.to_datetime(def_company['date_founded']).date())\n",
    "    return(def_company)"
   ]
  },
  {
   "cell_type": "markdown",
   "metadata": {},
   "source": [
    "Per estrarre le features tramite le api di giantbomb, bisogna in primo luogo, trovare il guid di quel gioco. A tal fine si definisce una funzione chiamata get_guid_game, che dato in input l'id del gioco, restituisce il guid desiderato. Parsed_json restituisce un dizionario con una serie di coppie chiave-valore. Per estrrare il guid del gioco, bisogna selezionare la chiave results, ottendendo una lista. Da questa lista, si estrae il primo elemento (che è ancora un dizionario), per poi estarre il guid del gioco. Questa operazione viene svolta tramite il comando parsed_json['results'][0]['guid']"
   ]
  },
  {
   "cell_type": "code",
   "execution_count": 5,
   "metadata": {},
   "outputs": [],
   "source": [
    "def get_guid_game(_id):\n",
    "    API_ENDPOINT_GET= \"http://www.giantbomb.com/api/games/?api_key=\" + api_key + \"&format=json&filter=id:\" + _id + \"&field_list=id,name,guid\"\n",
    "    r=requests.get(API_ENDPOINT_GET, headers=headers)\n",
    "    parsed_json = (json.loads(r.text))\n",
    "    guid = parsed_json['results'][0]['guid'] #si estrae il guid del gioco.\n",
    "    return(guid)"
   ]
  },
  {
   "cell_type": "markdown",
   "metadata": {},
   "source": [
    "Una volta definita la funzione con cui estrrare il guid, si procede a definire una funzione che dati in input l'id del gioco e i campi da estrarre (fields), restituisce come output il gioco con gli attributi specificati. Anche in questo caso, parsed_json restituisce un dizioanrio, da cui per estrarre le informazioni desiderate relative al videogioco, si usa il comando parsed_json['results']"
   ]
  },
  {
   "cell_type": "code",
   "execution_count": 6,
   "metadata": {},
   "outputs": [],
   "source": [
    "def get_game(giantbomb_id, fields):\n",
    "    guid = get_guid_game(giantbomb_id)\n",
    "    API_ENDPOINT_GUID= \"http://www.giantbomb.com/api/game/\" + guid + \"/?api_key=\" + api_key + \"&format=json&field_list=\" + fields\n",
    "    r=requests.get(API_ENDPOINT_GUID, headers=headers)\n",
    "    parsed_json = (json.loads(r.text))\n",
    "    game = parsed_json['results']\n",
    "    lista_provvisoria = []\n",
    "    try:\n",
    "        for i in game['developers']:\n",
    "            lista_provvisoria.append(get_company(i))\n",
    "        game['developers'] = lista_provvisoria\n",
    "    except:\n",
    "        pass\n",
    "    game = delete_keys_from_dict(game, to_delete = ['api_detail_url','site_detail_url', 'id'])\n",
    "    return(game)"
   ]
  },
  {
   "cell_type": "markdown",
   "metadata": {},
   "source": [
    "## Raccolta dati\n",
    "\n",
    "<hr style=\"height:1px;border-top:1px solid #f00\" />"
   ]
  },
  {
   "cell_type": "markdown",
   "metadata": {},
   "source": [
    "Grazie alle funzioni costruite in precedenza, ora si procede ad estrarre le informazioni realtive ai videogiochi presenti nel dataset Twitch, sfruttando le API di Giantbomb.\n",
    "Come primo passo, si carica il dataset Twitch."
   ]
  },
  {
   "cell_type": "code",
   "execution_count": 7,
   "metadata": {},
   "outputs": [],
   "source": [
    "Twitch = pd.read_json(r\"dataset_twitch.json\")"
   ]
  },
  {
   "cell_type": "markdown",
   "metadata": {},
   "source": [
    "Si procede a creare una lista univoca degli id di giantbomb presenti nel dataset Twitch. Infatti le API di giantbomb e Twitch dialogano tra loro tramite un id comune. Pertanto, è sufficiente interrogare l'API di giantbomb, con il rispettivo id presente nel dataset Twitch."
   ]
  },
  {
   "cell_type": "code",
   "execution_count": 8,
   "metadata": {},
   "outputs": [],
   "source": [
    "game_list = Twitch['giantbomb_id'].unique()"
   ]
  },
  {
   "cell_type": "code",
   "execution_count": 9,
   "metadata": {},
   "outputs": [
    {
     "name": "stdout",
     "output_type": "stream",
     "text": [
      "errore 72009\n",
      "errore 52424\n",
      "errore 50871\n",
      "errore 42024\n",
      "errore 72789\n",
      "errore 66928\n",
      "errore 61292\n",
      "errore 49773\n",
      "errore 52024\n",
      "errore 75171\n",
      "errore 51779\n"
     ]
    }
   ],
   "source": [
    "res = []\n",
    "lista_err = []\n",
    "for game in game_list:\n",
    "    try:\n",
    "        res.append(get_game(str(game), \n",
    "                            fields = \"name,genres,platforms,similar_games,themes,developers,characters,deck,dlcs\"))\n",
    "        time.sleep(5)\n",
    "    except:\n",
    "        print(\"errore\", game)\n",
    "        lista_err.append(game)\n",
    "        time.sleep(240)\n",
    "        continue"
   ]
  },
  {
   "cell_type": "code",
   "execution_count": 14,
   "metadata": {},
   "outputs": [],
   "source": [
    "#esportazione in json\n",
    "with open(r\"C:\\Users\\39331\\Desktop\\Giantbomb.json\", \"w\") as f:\n",
    "       json.dump(res, f)"
   ]
  }
 ],
 "metadata": {
  "kernelspec": {
   "display_name": "Python 3",
   "language": "python",
   "name": "python3"
  },
  "language_info": {
   "codemirror_mode": {
    "name": "ipython",
    "version": 3
   },
   "file_extension": ".py",
   "mimetype": "text/x-python",
   "name": "python",
   "nbconvert_exporter": "python",
   "pygments_lexer": "ipython3",
   "version": "3.7.4"
  }
 },
 "nbformat": 4,
 "nbformat_minor": 4
}

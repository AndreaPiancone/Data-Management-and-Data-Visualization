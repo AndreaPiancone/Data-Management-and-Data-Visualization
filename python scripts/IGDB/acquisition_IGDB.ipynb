{
 "cells": [
  {
   "cell_type": "code",
   "execution_count": 1,
   "metadata": {},
   "outputs": [],
   "source": [
    "import json\n",
    "import requests\n",
    "import urllib.parse\n",
    "import itertools\n",
    "from datetime import datetime"
   ]
  },
  {
   "cell_type": "markdown",
   "metadata": {},
   "source": [
    "## Acquisizione di 5000 giochi ordinati per popolarità"
   ]
  },
  {
   "cell_type": "code",
   "execution_count": 2,
   "metadata": {},
   "outputs": [],
   "source": [
    "a = open(\"update_5000_popular_games_IGDB.txt\", \"w\")\n",
    "\n",
    "user_key= '0998cfc622f92290f2c1c15ba03b3d6a'\n",
    "headers = {'user-key':user_key}\n",
    "games='[\\n '\n",
    "\n",
    "for i in range(0,5000,500):\n",
    "    \n",
    "    #body='fields id,name,age_ratings.rating,age_ratings.category,release_dates.y,game_modes.name,similar_games.name,time_to_beat.completely, popularity,rating;limit 5;search '+ '\"'+row[\"name\"]+'\"'+';where release_dates.y ='+str(y)+';'\n",
    "\n",
    "    body='fields id,name,age_ratings.rating,age_ratings.category,release_dates.y,game_modes.name,similar_games.name,time_to_beat.completely, popularity,rating ; limit 500; offset'+str(i)+'; sort popularity desc;'\n",
    "    r=requests.get('https://api-v3.igdb.com/games/', data=body, headers= headers)\n",
    "    s= r.text[2:-2]+ \",\\n\"\n",
    "    games +=s\n",
    "\n",
    "\n",
    "games = games[:-2]+\"\\n]\"\n",
    "parsed_json=json.loads(games)\n",
    "json.dump(parsed_json, a)\n",
    "a.close()"
   ]
  },
  {
   "cell_type": "code",
   "execution_count": 3,
   "metadata": {},
   "outputs": [
    {
     "data": {
      "text/plain": [
       "5000"
      ]
     },
     "execution_count": 3,
     "metadata": {},
     "output_type": "execute_result"
    }
   ],
   "source": [
    "len(parsed_json)"
   ]
  }
 ],
 "metadata": {
  "kernelspec": {
   "display_name": "Python 3",
   "language": "python",
   "name": "python3"
  },
  "language_info": {
   "codemirror_mode": {
    "name": "ipython",
    "version": 3
   },
   "file_extension": ".py",
   "mimetype": "text/x-python",
   "name": "python",
   "nbconvert_exporter": "python",
   "pygments_lexer": "ipython3",
   "version": "3.7.3"
  }
 },
 "nbformat": 4,
 "nbformat_minor": 4
}

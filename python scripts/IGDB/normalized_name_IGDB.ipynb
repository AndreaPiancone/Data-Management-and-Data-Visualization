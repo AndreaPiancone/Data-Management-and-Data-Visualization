{
 "cells": [
  {
   "cell_type": "code",
   "execution_count": 9,
   "metadata": {},
   "outputs": [],
   "source": [
    "import json\n",
    "import requests\n",
    "import urllib.parse\n",
    "import itertools\n",
    "from datetime import datetime\n",
    "import pandas as pd\n",
    "from string import digits\n",
    "import re\n",
    "from unidecode import unidecode"
   ]
  },
  {
   "cell_type": "markdown",
   "metadata": {},
   "source": [
    "## Apertura file dei giochi acquisiti da IGDB"
   ]
  },
  {
   "cell_type": "code",
   "execution_count": 10,
   "metadata": {},
   "outputs": [],
   "source": [
    "file_input= pd.read_json(\"5412_popular_IGDB.json\")"
   ]
  },
  {
   "cell_type": "code",
   "execution_count": 11,
   "metadata": {
    "scrolled": true
   },
   "outputs": [
    {
     "data": {
      "text/plain": [
       "5412"
      ]
     },
     "execution_count": 11,
     "metadata": {},
     "output_type": "execute_result"
    }
   ],
   "source": [
    "len(file_input)"
   ]
  },
  {
   "cell_type": "markdown",
   "metadata": {},
   "source": [
    "## Normalizzazione dei nomi \n",
    "\n",
    "    -rimozione spazi bianchi\n",
    "    -lower case\n",
    "    -rimozione caratteri speciali\n",
    "    -da Unicode ad ASCII"
   ]
  },
  {
   "cell_type": "code",
   "execution_count": 12,
   "metadata": {},
   "outputs": [],
   "source": [
    "def clean_string(string):\n",
    "    string = string.replace(\" \", \"\") #rimuove spazi bianchi\n",
    "    string = string.lower() #si trasformano le lettere minuscole in lettere maiscole\n",
    "    string = re.sub(r\"[-()\\\"#/@;:<>{}`+=~|.!?,]\", \"\", string) #rimuovere caratteri speciali\n",
    "    string = unidecode(string) #trasforma da Unicode ad ASCII\n",
    "    return string"
   ]
  },
  {
   "cell_type": "code",
   "execution_count": 13,
   "metadata": {},
   "outputs": [],
   "source": [
    "file_input['normalized_name']=file_input['name'].apply(lambda x: clean_string(x))"
   ]
  },
  {
   "cell_type": "code",
   "execution_count": 14,
   "metadata": {
    "scrolled": false
   },
   "outputs": [
    {
     "data": {
      "text/html": [
       "<div>\n",
       "<style scoped>\n",
       "    .dataframe tbody tr th:only-of-type {\n",
       "        vertical-align: middle;\n",
       "    }\n",
       "\n",
       "    .dataframe tbody tr th {\n",
       "        vertical-align: top;\n",
       "    }\n",
       "\n",
       "    .dataframe thead th {\n",
       "        text-align: right;\n",
       "    }\n",
       "</style>\n",
       "<table border=\"1\" class=\"dataframe\">\n",
       "  <thead>\n",
       "    <tr style=\"text-align: right;\">\n",
       "      <th></th>\n",
       "      <th>id</th>\n",
       "      <th>age_ratings</th>\n",
       "      <th>game_modes</th>\n",
       "      <th>name</th>\n",
       "      <th>popularity</th>\n",
       "      <th>release_dates</th>\n",
       "      <th>similar_games</th>\n",
       "      <th>rating</th>\n",
       "      <th>time_to_beat</th>\n",
       "      <th>normalized_name</th>\n",
       "    </tr>\n",
       "  </thead>\n",
       "  <tbody>\n",
       "    <tr>\n",
       "      <th>0</th>\n",
       "      <td>115278</td>\n",
       "      <td>[{'id': 25494, 'category': 1, 'rating': 9}]</td>\n",
       "      <td>[{'id': 1, 'name': 'Single player'}]</td>\n",
       "      <td>Rune Factory 4 Special</td>\n",
       "      <td>2090.622838</td>\n",
       "      <td>[{'id': 165088, 'y': 2019}, {'id': 185024, 'y'...</td>\n",
       "      <td>[{'id': 28010, 'name': 'God Eater 3'}, {'id': ...</td>\n",
       "      <td>NaN</td>\n",
       "      <td>None</td>\n",
       "      <td>runefactory4special</td>\n",
       "    </tr>\n",
       "    <tr>\n",
       "      <th>1</th>\n",
       "      <td>120268</td>\n",
       "      <td>[{'id': 25488, 'category': 1, 'rating': 11}]</td>\n",
       "      <td>[{'id': 2, 'name': 'Multiplayer'}]</td>\n",
       "      <td>Zombie Driver: Immortal Edition</td>\n",
       "      <td>1431.973719</td>\n",
       "      <td>[{'id': 171992, 'y': 2019}]</td>\n",
       "      <td>[{'id': 22799, 'name': 'PAWARUMi'}, {'id': 877...</td>\n",
       "      <td>NaN</td>\n",
       "      <td>None</td>\n",
       "      <td>zombiedriverimmortaledition</td>\n",
       "    </tr>\n",
       "    <tr>\n",
       "      <th>2</th>\n",
       "      <td>105049</td>\n",
       "      <td>[{'id': 25485, 'category': 1, 'rating': 11}]</td>\n",
       "      <td>[{'id': 1, 'name': 'Single player'}, {'id': 2,...</td>\n",
       "      <td>Remnant: From the Ashes</td>\n",
       "      <td>997.777955</td>\n",
       "      <td>[{'id': 167897, 'y': 2019}, {'id': 167898, 'y'...</td>\n",
       "      <td>[{'id': 55038, 'name': 'Immortal: Unchained'},...</td>\n",
       "      <td>75.788764</td>\n",
       "      <td>None</td>\n",
       "      <td>remnantfromtheashes</td>\n",
       "    </tr>\n",
       "    <tr>\n",
       "      <th>3</th>\n",
       "      <td>113344</td>\n",
       "      <td>[{'id': 25457, 'category': 1, 'rating': 10}]</td>\n",
       "      <td>[{'id': 1, 'name': 'Single player'}, {'id': 2,...</td>\n",
       "      <td>Monster Hunter: World - Iceborne</td>\n",
       "      <td>746.354535</td>\n",
       "      <td>[{'id': 169398, 'y': 2019}, {'id': 187392, 'y'...</td>\n",
       "      <td>[{'id': 236, 'name': 'Myst'}, {'id': 55984, 'n...</td>\n",
       "      <td>87.007274</td>\n",
       "      <td>None</td>\n",
       "      <td>monsterhunterworldiceborne</td>\n",
       "    </tr>\n",
       "    <tr>\n",
       "      <th>4</th>\n",
       "      <td>19164</td>\n",
       "      <td>[{'id': 25428, 'category': 1, 'rating': 11}, {...</td>\n",
       "      <td>[{'id': 1, 'name': 'Single player'}, {'id': 2,...</td>\n",
       "      <td>Borderlands 3</td>\n",
       "      <td>633.124839</td>\n",
       "      <td>[{'id': 167478, 'y': 2019}, {'id': 167479, 'y'...</td>\n",
       "      <td>[{'id': 55038, 'name': 'Immortal: Unchained'},...</td>\n",
       "      <td>80.139925</td>\n",
       "      <td>None</td>\n",
       "      <td>borderlands3</td>\n",
       "    </tr>\n",
       "  </tbody>\n",
       "</table>\n",
       "</div>"
      ],
      "text/plain": [
       "       id                                        age_ratings  \\\n",
       "0  115278        [{'id': 25494, 'category': 1, 'rating': 9}]   \n",
       "1  120268       [{'id': 25488, 'category': 1, 'rating': 11}]   \n",
       "2  105049       [{'id': 25485, 'category': 1, 'rating': 11}]   \n",
       "3  113344       [{'id': 25457, 'category': 1, 'rating': 10}]   \n",
       "4   19164  [{'id': 25428, 'category': 1, 'rating': 11}, {...   \n",
       "\n",
       "                                          game_modes  \\\n",
       "0               [{'id': 1, 'name': 'Single player'}]   \n",
       "1                 [{'id': 2, 'name': 'Multiplayer'}]   \n",
       "2  [{'id': 1, 'name': 'Single player'}, {'id': 2,...   \n",
       "3  [{'id': 1, 'name': 'Single player'}, {'id': 2,...   \n",
       "4  [{'id': 1, 'name': 'Single player'}, {'id': 2,...   \n",
       "\n",
       "                               name   popularity  \\\n",
       "0            Rune Factory 4 Special  2090.622838   \n",
       "1   Zombie Driver: Immortal Edition  1431.973719   \n",
       "2           Remnant: From the Ashes   997.777955   \n",
       "3  Monster Hunter: World - Iceborne   746.354535   \n",
       "4                     Borderlands 3   633.124839   \n",
       "\n",
       "                                       release_dates  \\\n",
       "0  [{'id': 165088, 'y': 2019}, {'id': 185024, 'y'...   \n",
       "1                        [{'id': 171992, 'y': 2019}]   \n",
       "2  [{'id': 167897, 'y': 2019}, {'id': 167898, 'y'...   \n",
       "3  [{'id': 169398, 'y': 2019}, {'id': 187392, 'y'...   \n",
       "4  [{'id': 167478, 'y': 2019}, {'id': 167479, 'y'...   \n",
       "\n",
       "                                       similar_games     rating time_to_beat  \\\n",
       "0  [{'id': 28010, 'name': 'God Eater 3'}, {'id': ...        NaN         None   \n",
       "1  [{'id': 22799, 'name': 'PAWARUMi'}, {'id': 877...        NaN         None   \n",
       "2  [{'id': 55038, 'name': 'Immortal: Unchained'},...  75.788764         None   \n",
       "3  [{'id': 236, 'name': 'Myst'}, {'id': 55984, 'n...  87.007274         None   \n",
       "4  [{'id': 55038, 'name': 'Immortal: Unchained'},...  80.139925         None   \n",
       "\n",
       "               normalized_name  \n",
       "0          runefactory4special  \n",
       "1  zombiedriverimmortaledition  \n",
       "2          remnantfromtheashes  \n",
       "3   monsterhunterworldiceborne  \n",
       "4                 borderlands3  "
      ]
     },
     "execution_count": 14,
     "metadata": {},
     "output_type": "execute_result"
    }
   ],
   "source": [
    "file_input.head()"
   ]
  },
  {
   "cell_type": "markdown",
   "metadata": {},
   "source": [
    "## Salvataggio file"
   ]
  },
  {
   "cell_type": "code",
   "execution_count": 15,
   "metadata": {},
   "outputs": [],
   "source": [
    "a = open(\"norm_5412_popular_IGDB.json\", \"w\")\n",
    "parsed_json=json.loads(file_input.to_json(orient='records'))\n",
    "json.dump(parsed_json, a)\n",
    "a.close()"
   ]
  },
  {
   "cell_type": "markdown",
   "metadata": {},
   "source": [
    "## Trasformazione data NOTA BENE: NON ESEGUITO\n",
    "\n",
    "    -Da unix timestamp a datetime"
   ]
  },
  {
   "cell_type": "code",
   "execution_count": 61,
   "metadata": {},
   "outputs": [],
   "source": [
    "file_input[\"norm_first_release_date\"]= pd.to_datetime(file_input['first_release_date'],unit='s')"
   ]
  },
  {
   "cell_type": "code",
   "execution_count": 62,
   "metadata": {
    "scrolled": true
   },
   "outputs": [
    {
     "data": {
      "text/html": [
       "<div>\n",
       "<style scoped>\n",
       "    .dataframe tbody tr th:only-of-type {\n",
       "        vertical-align: middle;\n",
       "    }\n",
       "\n",
       "    .dataframe tbody tr th {\n",
       "        vertical-align: top;\n",
       "    }\n",
       "\n",
       "    .dataframe thead th {\n",
       "        text-align: right;\n",
       "    }\n",
       "</style>\n",
       "<table border=\"1\" class=\"dataframe\">\n",
       "  <thead>\n",
       "    <tr style=\"text-align: right;\">\n",
       "      <th></th>\n",
       "      <th>id</th>\n",
       "      <th>age_ratings</th>\n",
       "      <th>first_release_date</th>\n",
       "      <th>game_modes</th>\n",
       "      <th>name</th>\n",
       "      <th>popularity</th>\n",
       "      <th>similar_games</th>\n",
       "      <th>rating</th>\n",
       "      <th>time_to_beat</th>\n",
       "      <th>normalized_name</th>\n",
       "      <th>norm_first_release_date</th>\n",
       "    </tr>\n",
       "  </thead>\n",
       "  <tbody>\n",
       "    <tr>\n",
       "      <th>0</th>\n",
       "      <td>115278</td>\n",
       "      <td>[25494]</td>\n",
       "      <td>1.564013e+09</td>\n",
       "      <td>[{'id': 1, 'name': 'Single player'}]</td>\n",
       "      <td>Rune Factory 4 Special</td>\n",
       "      <td>2090.622838</td>\n",
       "      <td>[{'id': 28010, 'name': 'God Eater 3'}, {'id': ...</td>\n",
       "      <td>NaN</td>\n",
       "      <td>NaN</td>\n",
       "      <td>runefactory4special</td>\n",
       "      <td>2019-07-25</td>\n",
       "    </tr>\n",
       "    <tr>\n",
       "      <th>1</th>\n",
       "      <td>120268</td>\n",
       "      <td>[25488]</td>\n",
       "      <td>1.564013e+09</td>\n",
       "      <td>[{'id': 2, 'name': 'Multiplayer'}]</td>\n",
       "      <td>Zombie Driver: Immortal Edition</td>\n",
       "      <td>1431.973719</td>\n",
       "      <td>[{'id': 22799, 'name': 'PAWARUMi'}, {'id': 877...</td>\n",
       "      <td>NaN</td>\n",
       "      <td>NaN</td>\n",
       "      <td>zombiedriverimmortaledition</td>\n",
       "      <td>2019-07-25</td>\n",
       "    </tr>\n",
       "    <tr>\n",
       "      <th>2</th>\n",
       "      <td>105049</td>\n",
       "      <td>[25485]</td>\n",
       "      <td>1.566259e+09</td>\n",
       "      <td>[{'id': 1, 'name': 'Single player'}, {'id': 2,...</td>\n",
       "      <td>Remnant: From the Ashes</td>\n",
       "      <td>997.777955</td>\n",
       "      <td>[{'id': 55038, 'name': 'Immortal: Unchained'},...</td>\n",
       "      <td>76.092768</td>\n",
       "      <td>NaN</td>\n",
       "      <td>remnantfromtheashes</td>\n",
       "      <td>2019-08-20</td>\n",
       "    </tr>\n",
       "    <tr>\n",
       "      <th>3</th>\n",
       "      <td>113344</td>\n",
       "      <td>[25457]</td>\n",
       "      <td>1.567728e+09</td>\n",
       "      <td>[{'id': 1, 'name': 'Single player'}, {'id': 2,...</td>\n",
       "      <td>Monster Hunter: World - Iceborne</td>\n",
       "      <td>746.354535</td>\n",
       "      <td>[{'id': 236, 'name': 'Myst'}, {'id': 55984, 'n...</td>\n",
       "      <td>87.007274</td>\n",
       "      <td>NaN</td>\n",
       "      <td>monsterhunterworldiceborne</td>\n",
       "      <td>2019-09-06</td>\n",
       "    </tr>\n",
       "    <tr>\n",
       "      <th>4</th>\n",
       "      <td>19164</td>\n",
       "      <td>[25428, 25841]</td>\n",
       "      <td>1.568333e+09</td>\n",
       "      <td>[{'id': 1, 'name': 'Single player'}, {'id': 2,...</td>\n",
       "      <td>Borderlands 3</td>\n",
       "      <td>633.124839</td>\n",
       "      <td>[{'id': 55038, 'name': 'Immortal: Unchained'},...</td>\n",
       "      <td>80.651337</td>\n",
       "      <td>NaN</td>\n",
       "      <td>borderlands3</td>\n",
       "      <td>2019-09-13</td>\n",
       "    </tr>\n",
       "  </tbody>\n",
       "</table>\n",
       "</div>"
      ],
      "text/plain": [
       "       id     age_ratings  first_release_date  \\\n",
       "0  115278         [25494]        1.564013e+09   \n",
       "1  120268         [25488]        1.564013e+09   \n",
       "2  105049         [25485]        1.566259e+09   \n",
       "3  113344         [25457]        1.567728e+09   \n",
       "4   19164  [25428, 25841]        1.568333e+09   \n",
       "\n",
       "                                          game_modes  \\\n",
       "0               [{'id': 1, 'name': 'Single player'}]   \n",
       "1                 [{'id': 2, 'name': 'Multiplayer'}]   \n",
       "2  [{'id': 1, 'name': 'Single player'}, {'id': 2,...   \n",
       "3  [{'id': 1, 'name': 'Single player'}, {'id': 2,...   \n",
       "4  [{'id': 1, 'name': 'Single player'}, {'id': 2,...   \n",
       "\n",
       "                               name   popularity  \\\n",
       "0            Rune Factory 4 Special  2090.622838   \n",
       "1   Zombie Driver: Immortal Edition  1431.973719   \n",
       "2           Remnant: From the Ashes   997.777955   \n",
       "3  Monster Hunter: World - Iceborne   746.354535   \n",
       "4                     Borderlands 3   633.124839   \n",
       "\n",
       "                                       similar_games     rating  time_to_beat  \\\n",
       "0  [{'id': 28010, 'name': 'God Eater 3'}, {'id': ...        NaN           NaN   \n",
       "1  [{'id': 22799, 'name': 'PAWARUMi'}, {'id': 877...        NaN           NaN   \n",
       "2  [{'id': 55038, 'name': 'Immortal: Unchained'},...  76.092768           NaN   \n",
       "3  [{'id': 236, 'name': 'Myst'}, {'id': 55984, 'n...  87.007274           NaN   \n",
       "4  [{'id': 55038, 'name': 'Immortal: Unchained'},...  80.651337           NaN   \n",
       "\n",
       "               normalized_name norm_first_release_date  \n",
       "0          runefactory4special              2019-07-25  \n",
       "1  zombiedriverimmortaledition              2019-07-25  \n",
       "2          remnantfromtheashes              2019-08-20  \n",
       "3   monsterhunterworldiceborne              2019-09-06  \n",
       "4                 borderlands3              2019-09-13  "
      ]
     },
     "execution_count": 62,
     "metadata": {},
     "output_type": "execute_result"
    }
   ],
   "source": [
    "file_input.head()"
   ]
  },
  {
   "cell_type": "code",
   "execution_count": 63,
   "metadata": {},
   "outputs": [],
   "source": [
    "file_input['norm_first_release_date']=file_input['norm_first_release_date'].apply(lambda x: str(x))"
   ]
  },
  {
   "cell_type": "code",
   "execution_count": null,
   "metadata": {},
   "outputs": [],
   "source": []
  }
 ],
 "metadata": {
  "kernelspec": {
   "display_name": "Python 3",
   "language": "python",
   "name": "python3"
  },
  "language_info": {
   "codemirror_mode": {
    "name": "ipython",
    "version": 3
   },
   "file_extension": ".py",
   "mimetype": "text/x-python",
   "name": "python",
   "nbconvert_exporter": "python",
   "pygments_lexer": "ipython3",
   "version": "3.7.3"
  }
 },
 "nbformat": 4,
 "nbformat_minor": 4
}

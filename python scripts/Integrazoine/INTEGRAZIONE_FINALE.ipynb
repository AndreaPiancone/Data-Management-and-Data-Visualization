{
 "cells": [
  {
   "cell_type": "markdown",
   "metadata": {},
   "source": [
    "# Integrazione dei dataset Twitch-Giantbomb e IGDB"
   ]
  },
  {
   "cell_type": "code",
   "execution_count": 1,
   "metadata": {},
   "outputs": [],
   "source": [
    "import pandas as pd\n",
    "import json \n",
    "import fuzzy_pandas as fpd\n",
    "import numpy"
   ]
  },
  {
   "cell_type": "code",
   "execution_count": 2,
   "metadata": {},
   "outputs": [],
   "source": [
    "Twitch_Giantbomb = pd.read_json(r\"C:\\Users\\39331\\Desktop\\Twitch_Giantbomb.json\")"
   ]
  },
  {
   "cell_type": "code",
   "execution_count": 3,
   "metadata": {},
   "outputs": [],
   "source": [
    "IGDB = pd.read_json(r\"C:\\Users\\39331\\Desktop\\IGDB_BIS.json\")"
   ]
  },
  {
   "cell_type": "code",
   "execution_count": 4,
   "metadata": {},
   "outputs": [],
   "source": [
    "Twitch_Giantbomb = Twitch_Giantbomb.rename(columns = {'name':'name_g', 'similar_games':'similar_games_g'})"
   ]
  },
  {
   "cell_type": "code",
   "execution_count": 5,
   "metadata": {},
   "outputs": [
    {
     "data": {
      "text/html": [
       "<div>\n",
       "<style scoped>\n",
       "    .dataframe tbody tr th:only-of-type {\n",
       "        vertical-align: middle;\n",
       "    }\n",
       "\n",
       "    .dataframe tbody tr th {\n",
       "        vertical-align: top;\n",
       "    }\n",
       "\n",
       "    .dataframe thead th {\n",
       "        text-align: right;\n",
       "    }\n",
       "</style>\n",
       "<table border=\"1\" class=\"dataframe\">\n",
       "  <thead>\n",
       "    <tr style=\"text-align: right;\">\n",
       "      <th></th>\n",
       "      <th>giantbomb_id</th>\n",
       "      <th>views</th>\n",
       "      <th>name_g</th>\n",
       "      <th>original_release_date</th>\n",
       "      <th>platforms</th>\n",
       "      <th>characters</th>\n",
       "      <th>developers</th>\n",
       "      <th>genres</th>\n",
       "      <th>similar_games_g</th>\n",
       "      <th>themes</th>\n",
       "      <th>dlcs</th>\n",
       "      <th>norm_name</th>\n",
       "    </tr>\n",
       "  </thead>\n",
       "  <tbody>\n",
       "    <tr>\n",
       "      <td>0</td>\n",
       "      <td>37030</td>\n",
       "      <td>[{'timestamp': '2020-07-02 08:30:53', 'visuals...</td>\n",
       "      <td>Fortnite</td>\n",
       "      <td>2017-07-25</td>\n",
       "      <td>[{'name': 'Mac'}, {'name': 'PC'}, {'name': 'iP...</td>\n",
       "      <td>[{'name': 'Batman'}, {'name': 'Catwoman'}, {'n...</td>\n",
       "      <td>[{'date_founded': '1991-01-01', 'developed_gam...</td>\n",
       "      <td>[{'name': 'Shooter'}]</td>\n",
       "      <td>[{'name': 'CastleMiner'}, {'name': 'Minecraft'...</td>\n",
       "      <td>[{'name': 'Horror'}, {'name': 'Fantasy'}, {'na...</td>\n",
       "      <td>None</td>\n",
       "      <td>fortnite</td>\n",
       "    </tr>\n",
       "  </tbody>\n",
       "</table>\n",
       "</div>"
      ],
      "text/plain": [
       "   giantbomb_id                                              views    name_g  \\\n",
       "0         37030  [{'timestamp': '2020-07-02 08:30:53', 'visuals...  Fortnite   \n",
       "\n",
       "  original_release_date                                          platforms  \\\n",
       "0            2017-07-25  [{'name': 'Mac'}, {'name': 'PC'}, {'name': 'iP...   \n",
       "\n",
       "                                          characters  \\\n",
       "0  [{'name': 'Batman'}, {'name': 'Catwoman'}, {'n...   \n",
       "\n",
       "                                          developers                 genres  \\\n",
       "0  [{'date_founded': '1991-01-01', 'developed_gam...  [{'name': 'Shooter'}]   \n",
       "\n",
       "                                     similar_games_g  \\\n",
       "0  [{'name': 'CastleMiner'}, {'name': 'Minecraft'...   \n",
       "\n",
       "                                              themes  dlcs norm_name  \n",
       "0  [{'name': 'Horror'}, {'name': 'Fantasy'}, {'na...  None  fortnite  "
      ]
     },
     "execution_count": 5,
     "metadata": {},
     "output_type": "execute_result"
    }
   ],
   "source": [
    "Twitch_Giantbomb.head(1)"
   ]
  },
  {
   "cell_type": "code",
   "execution_count": 6,
   "metadata": {},
   "outputs": [
    {
     "data": {
      "text/html": [
       "<div>\n",
       "<style scoped>\n",
       "    .dataframe tbody tr th:only-of-type {\n",
       "        vertical-align: middle;\n",
       "    }\n",
       "\n",
       "    .dataframe tbody tr th {\n",
       "        vertical-align: top;\n",
       "    }\n",
       "\n",
       "    .dataframe thead th {\n",
       "        text-align: right;\n",
       "    }\n",
       "</style>\n",
       "<table border=\"1\" class=\"dataframe\">\n",
       "  <thead>\n",
       "    <tr style=\"text-align: right;\">\n",
       "      <th></th>\n",
       "      <th>name</th>\n",
       "      <th>age_ratings</th>\n",
       "      <th>game_modes</th>\n",
       "      <th>normalized_name</th>\n",
       "      <th>release_dates</th>\n",
       "      <th>similar_games</th>\n",
       "      <th>time_to_beat</th>\n",
       "    </tr>\n",
       "  </thead>\n",
       "  <tbody>\n",
       "    <tr>\n",
       "      <td>0</td>\n",
       "      <td>Rune Factory 4 Special</td>\n",
       "      <td>[E10]</td>\n",
       "      <td>[{'name': 'Single player'}]</td>\n",
       "      <td>runefactory4special</td>\n",
       "      <td>2019</td>\n",
       "      <td>[{'name': 'God Eater 3'}, {'name': 'Shadows: A...</td>\n",
       "      <td>None</td>\n",
       "    </tr>\n",
       "  </tbody>\n",
       "</table>\n",
       "</div>"
      ],
      "text/plain": [
       "                     name age_ratings                   game_modes  \\\n",
       "0  Rune Factory 4 Special       [E10]  [{'name': 'Single player'}]   \n",
       "\n",
       "       normalized_name release_dates  \\\n",
       "0  runefactory4special          2019   \n",
       "\n",
       "                                       similar_games time_to_beat  \n",
       "0  [{'name': 'God Eater 3'}, {'name': 'Shadows: A...         None  "
      ]
     },
     "execution_count": 6,
     "metadata": {},
     "output_type": "execute_result"
    }
   ],
   "source": [
    "IGDB.head(1)"
   ]
  },
  {
   "cell_type": "markdown",
   "metadata": {},
   "source": [
    "Si inzia l'integrazione facendo un inner join tradizionale, dove la chiave è il nome normalizzato. "
   ]
  },
  {
   "cell_type": "code",
   "execution_count": 7,
   "metadata": {},
   "outputs": [],
   "source": [
    "Primo_step = fpd.fuzzy_merge(Twitch_Giantbomb, IGDB, \n",
    "                            left_on = \"norm_name\", right_on = \"normalized_name\", join = \"inner\")"
   ]
  },
  {
   "cell_type": "code",
   "execution_count": 8,
   "metadata": {},
   "outputs": [],
   "source": [
    "def calc_diff(row):\n",
    "    try:\n",
    "        dif = numpy.abs(row['release_dates'] - pd.to_datetime(row['original_release_date']).year)\n",
    "    except:\n",
    "        dif = 0\n",
    "    return(dif)"
   ]
  },
  {
   "cell_type": "markdown",
   "metadata": {},
   "source": [
    "Per precauzione non si ritiene però sufficiente considerare due giochi con lo stesso nome normalizzato lo stesso gioco. Si aggiunge come condizione che i giochi con lo stesso nome normalizzato devono avere una data di pubblicazione indicata su Giantbomb e IGDB che differisce al massimo di 3 anni. "
   ]
  },
  {
   "cell_type": "code",
   "execution_count": 9,
   "metadata": {},
   "outputs": [],
   "source": [
    "Primo_step['Diff'] = Primo_step[['release_dates', 'original_release_date']].apply(calc_diff, axis = 1)"
   ]
  },
  {
   "cell_type": "markdown",
   "metadata": {},
   "source": [
    "Aggiunta la colonna che contiene la differenza tra gli anni, si fa una semplice query."
   ]
  },
  {
   "cell_type": "code",
   "execution_count": 10,
   "metadata": {},
   "outputs": [],
   "source": [
    "Primo_step = Primo_step[Primo_step['Diff'] <= 3]"
   ]
  },
  {
   "cell_type": "code",
   "execution_count": 11,
   "metadata": {},
   "outputs": [
    {
     "data": {
      "text/plain": [
       "(828, 20)"
      ]
     },
     "execution_count": 11,
     "metadata": {},
     "output_type": "execute_result"
    }
   ],
   "source": [
    "Primo_step.shape"
   ]
  },
  {
   "cell_type": "markdown",
   "metadata": {},
   "source": [
    "Per ridurre seppur di poco i tempi di esecuzione si rimuovono dai dataset i giochi già inegrati. Ha senso in quanto un gioco già integrato non ha senso che possa integrarsi nuovamente nella prossima fase."
   ]
  },
  {
   "cell_type": "code",
   "execution_count": 12,
   "metadata": {},
   "outputs": [],
   "source": [
    "Da_Integrare_TG = Twitch_Giantbomb[Twitch_Giantbomb['name_g'].isin(Primo_step['name_g'].unique()) == False]"
   ]
  },
  {
   "cell_type": "code",
   "execution_count": 13,
   "metadata": {},
   "outputs": [],
   "source": [
    "Da_Integarre_IGDB = IGDB[IGDB['name'].isin(Primo_step['name'].unique()) == False]"
   ]
  },
  {
   "cell_type": "markdown",
   "metadata": {},
   "source": [
    "La seconda fase consiste nel cercare di integrare i giochi rimanenti tramite un inner join dove la chiave è il nome (non normalizzato del gioco) e aggiungendo come condizione che due records si integrano solo se la similiarità tra le stringhe del nome è almeno pari al 60%. La similiarità è calcolata tramite la edit distance (distanza di levensthein)."
   ]
  },
  {
   "cell_type": "code",
   "execution_count": 14,
   "metadata": {},
   "outputs": [],
   "source": [
    "Secondo_step = fpd.fuzzy_merge(Da_Integrare_TG, Da_Integarre_IGDB, \n",
    "                            left_on = \"name_g\", right_on = \"name\", join = \"inner\", \n",
    "                               method = \"levenshtein\", threshold = 0.6, ignore_nonlatin = False)"
   ]
  },
  {
   "cell_type": "code",
   "execution_count": 15,
   "metadata": {},
   "outputs": [],
   "source": [
    "Secondo_step['Diff'] = Secondo_step[['release_dates', 'original_release_date']].apply(calc_diff, axis = 1)"
   ]
  },
  {
   "cell_type": "code",
   "execution_count": 16,
   "metadata": {},
   "outputs": [],
   "source": [
    "Secondo_step = Secondo_step[Secondo_step['Diff'] <= 3]"
   ]
  },
  {
   "cell_type": "markdown",
   "metadata": {},
   "source": [
    "Per lo stesso motivo di prima si integrano poi i giochi con una differrnza di 3 anni al massimo nella loro pubblicazione fra i due dataset."
   ]
  },
  {
   "cell_type": "code",
   "execution_count": 17,
   "metadata": {},
   "outputs": [],
   "source": [
    "Secondo_step = Secondo_step.drop_duplicates(subset = ['name_g'], keep = \"first\")"
   ]
  },
  {
   "cell_type": "markdown",
   "metadata": {},
   "source": [
    "I giochi pokemon presentano dei duplicati dal lato di Giantbomb, pertanto si rimuovono tali duplicati."
   ]
  },
  {
   "cell_type": "code",
   "execution_count": 18,
   "metadata": {},
   "outputs": [],
   "source": [
    "Secondo_step = Secondo_step.reset_index()"
   ]
  },
  {
   "cell_type": "code",
   "execution_count": 19,
   "metadata": {},
   "outputs": [
    {
     "data": {
      "text/plain": [
       "(23, 21)"
      ]
     },
     "execution_count": 19,
     "metadata": {},
     "output_type": "execute_result"
    }
   ],
   "source": [
    "Secondo_step.shape"
   ]
  },
  {
   "cell_type": "code",
   "execution_count": 20,
   "metadata": {},
   "outputs": [
    {
     "name": "stderr",
     "output_type": "stream",
     "text": [
      "C:\\Users\\39331\\Anaconda3\\lib\\site-packages\\ipykernel_launcher.py:1: FutureWarning: Sorting because non-concatenation axis is not aligned. A future version\n",
      "of pandas will change to not sort by default.\n",
      "\n",
      "To accept the future behavior, pass 'sort=False'.\n",
      "\n",
      "To retain the current behavior and silence the warning, pass 'sort=True'.\n",
      "\n",
      "  \"\"\"Entry point for launching an IPython kernel.\n"
     ]
    }
   ],
   "source": [
    "Integrato = pd.concat([Primo_step, Secondo_step])"
   ]
  },
  {
   "cell_type": "code",
   "execution_count": 21,
   "metadata": {},
   "outputs": [
    {
     "data": {
      "text/plain": [
       "(851, 21)"
      ]
     },
     "execution_count": 21,
     "metadata": {},
     "output_type": "execute_result"
    }
   ],
   "source": [
    "Integrato.shape"
   ]
  },
  {
   "cell_type": "markdown",
   "metadata": {},
   "source": [
    "E' stato integrato il 90% del dataset di Giantbomb."
   ]
  },
  {
   "cell_type": "code",
   "execution_count": 22,
   "metadata": {},
   "outputs": [],
   "source": [
    "Integrato.to_json(r\"C:\\Users\\39331\\Desktop\\Integrato.json\", orient = \"records\")"
   ]
  }
 ],
 "metadata": {
  "kernelspec": {
   "display_name": "Python 3",
   "language": "python",
   "name": "python3"
  },
  "language_info": {
   "codemirror_mode": {
    "name": "ipython",
    "version": 3
   },
   "file_extension": ".py",
   "mimetype": "text/x-python",
   "name": "python",
   "nbconvert_exporter": "python",
   "pygments_lexer": "ipython3",
   "version": "3.7.4"
  }
 },
 "nbformat": 4,
 "nbformat_minor": 2
}

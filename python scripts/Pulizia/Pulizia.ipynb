{
 "cells": [
  {
   "cell_type": "code",
   "execution_count": 1,
   "metadata": {},
   "outputs": [],
   "source": [
    "import pandas as pd\n",
    "import json"
   ]
  },
  {
   "cell_type": "code",
   "execution_count": 2,
   "metadata": {},
   "outputs": [],
   "source": [
    "df = pd.read_json(r\"C:\\Users\\39331\\Desktop\\integrato_DEFINITIVO.json\", lines = True)"
   ]
  },
  {
   "cell_type": "code",
   "execution_count": 3,
   "metadata": {},
   "outputs": [],
   "source": [
    "def aggregate_genres(row):\n",
    "    for i in range(0, len(row)):\n",
    "        if row[i]['name'] in ['Action', 'Action-Adventure', 'Adventure']:\n",
    "            row[i]['name'] = 'Action-Adventure'\n",
    "        if row[i]['name'] in ['Baseball', 'Basketball', 'Bowling', 'Boxing', \n",
    "                         'Fishing', 'Football', 'Golf', 'Hockey', 'Pinball',\n",
    "                        'Skateboarding', 'Soccer', 'Sports', 'Tennis', 'Wrestling',\n",
    "                        'Driving/Racing', 'Fitness']:\n",
    "            row[i]['name'] = 'Sports'\n",
    "        if row[i]['name'] in ['Dual-Joystick Shooter', 'First-Person Shooter', \"Shoot 'Em Up\",\n",
    "                        \"Shooter\"]:\n",
    "            row[i]['name'] = \"Shooter\"\n",
    "        if row[i]['name'] in ['Brawler', 'Fighting', 'Vehicular Combat']:\n",
    "            row[i]['name'] = \"Fighting\"\n",
    "        if row[i]['name'] in ['Flight Simulator', 'Simulation']:\n",
    "            row[i]['name'] = \"Simulation\"\n",
    "        if row[i]['name'] in ['MMORPG', 'Role-Playing']:\n",
    "            row[i]['name'] = 'Role-Playing'\n",
    "        if row[i]['name'] in ['Puzzle', 'Trivia/Board Game']:\n",
    "            row[i]['name'] = \"Puzzle\"\n",
    "        if row[i]['name'] in ['Real-Time Strategy', 'Strategy']:\n",
    "            row[i]['name'] = \"Strategy\"\n",
    "    return(row)"
   ]
  },
  {
   "cell_type": "code",
   "execution_count": 4,
   "metadata": {},
   "outputs": [],
   "source": [
    "df['genere_grouped'] = df['genres'].apply(aggregate_genres)"
   ]
  },
  {
   "cell_type": "code",
   "execution_count": 5,
   "metadata": {},
   "outputs": [],
   "source": [
    "df['age_rating_one'] = df['age_ratings'].apply(lambda x: x[0])"
   ]
  },
  {
   "cell_type": "code",
   "execution_count": 6,
   "metadata": {},
   "outputs": [],
   "source": [
    "df = df.drop(columns = ['age_ratings', 'developers', 'genres', 'giantbomb_id', 'name', \n",
    "                        'norm_name', 'normalized_name', 'release_dates', 'similar_games'])"
   ]
  },
  {
   "cell_type": "code",
   "execution_count": 7,
   "metadata": {},
   "outputs": [],
   "source": [
    "df = df.rename(columns = {'name_g':'name', 'genere_grouped':'genres', 'age_rating_one':'age_rating',\n",
    "                         'similar_games_g':'similar_games'})"
   ]
  },
  {
   "cell_type": "code",
   "execution_count": 8,
   "metadata": {},
   "outputs": [],
   "source": [
    "def aggregate_age_rating(row):\n",
    "    if row in ['Three', 'Seven', 'E', 'E10']:\n",
    "        return(\"giochi per tutti\")\n",
    "    if row in ['T', 'Twelve', 'Sixteen']:\n",
    "        return(\"giochi per adolescenti\")\n",
    "    if row in ['M', 'AO', 'Eighteen']:\n",
    "        return(\"giochi per adulti\")\n",
    "    if row in ['RP']:\n",
    "        return(\"RP\")"
   ]
  },
  {
   "cell_type": "code",
   "execution_count": 9,
   "metadata": {},
   "outputs": [],
   "source": [
    "df['age_rating'] = df['age_rating'].apply(aggregate_age_rating)"
   ]
  },
  {
   "cell_type": "code",
   "execution_count": 10,
   "metadata": {},
   "outputs": [],
   "source": [
    "def group_num_char(row):\n",
    "    if row == 0:\n",
    "        return(\"0\")\n",
    "    if row >=1 and row <= 5:\n",
    "        return(\"da 1 a 5\")\n",
    "    if row >= 5 and row <= 10:\n",
    "        return(\"da 5 a 10\")\n",
    "    if row >= 10 and row <= 20:\n",
    "        return(\"da 10 a 20\")\n",
    "    if row > 20:\n",
    "        return(\"più di 20\")"
   ]
  },
  {
   "cell_type": "code",
   "execution_count": 11,
   "metadata": {},
   "outputs": [],
   "source": [
    "df['characters'] = df['characters'].apply(group_num_char)"
   ]
  },
  {
   "cell_type": "code",
   "execution_count": 12,
   "metadata": {},
   "outputs": [],
   "source": [
    "def get_list_game_modes(row):\n",
    "    try:\n",
    "        lista = []\n",
    "        for i in row:\n",
    "            lista.append(i['name'])\n",
    "        return(lista)\n",
    "    except:\n",
    "        return(row)"
   ]
  },
  {
   "cell_type": "code",
   "execution_count": 13,
   "metadata": {},
   "outputs": [],
   "source": [
    "df['game_modes'] = df['game_modes'].apply(get_list_game_modes)"
   ]
  },
  {
   "cell_type": "code",
   "execution_count": 14,
   "metadata": {},
   "outputs": [],
   "source": [
    "def conv_name(row):\n",
    "    lista = []\n",
    "    for i in row:\n",
    "        if i in ['Battle Royale', 'Co-operative', \n",
    "                'Massively Multiplayer Online (MMO)', 'Split screen']:\n",
    "            lista.append(\"Multiplayer\")\n",
    "        else:\n",
    "            lista.append(i)\n",
    "    return(lista)"
   ]
  },
  {
   "cell_type": "code",
   "execution_count": 15,
   "metadata": {},
   "outputs": [],
   "source": [
    "df['game_modes'] = df['game_modes'].apply(conv_name)"
   ]
  },
  {
   "cell_type": "code",
   "execution_count": 16,
   "metadata": {},
   "outputs": [],
   "source": [
    "def group_game_modes(row):\n",
    "    if len(row) == 1:\n",
    "        if row[0] == \"Single player\":\n",
    "            return(\"Gioco solo Single Player\")\n",
    "        else:\n",
    "            return(\"Gioco solo Multiplayer\")\n",
    "    if len(row) > 1:\n",
    "        if \"Single player\" in row:\n",
    "            return(\"Gioco sia Single Player che Multiplayer\")\n",
    "        else:\n",
    "            return(\"Gioco solo Multiplayer\")"
   ]
  },
  {
   "cell_type": "code",
   "execution_count": 17,
   "metadata": {},
   "outputs": [],
   "source": [
    "df['game_modes'] = df['game_modes'].apply(group_game_modes)"
   ]
  },
  {
   "cell_type": "code",
   "execution_count": 18,
   "metadata": {},
   "outputs": [],
   "source": [
    "df['anno_pubblicazione'] = df['original_release_date'].apply(lambda x: pd.to_datetime(x).year)"
   ]
  },
  {
   "cell_type": "code",
   "execution_count": 19,
   "metadata": {},
   "outputs": [],
   "source": [
    "def group_year(row):\n",
    "    if row <= 1999:\n",
    "        return(\"gioco uscito prima del 2000\")\n",
    "    if row >= 2000 and row <=2009:\n",
    "        return(\"2000-2009\")\n",
    "    if row >= 2010 and row <= 2015:\n",
    "        return(\"2010-2015\")\n",
    "    if row >= 2016 and row <= 2019:\n",
    "        return(\"2016-2019\")\n",
    "    if row >= 2020:\n",
    "        return(\"giochi usciti quest anno\")"
   ]
  },
  {
   "cell_type": "code",
   "execution_count": 20,
   "metadata": {},
   "outputs": [],
   "source": [
    "df['original_release_date'] = df['anno_pubblicazione'].apply(group_year)"
   ]
  },
  {
   "cell_type": "code",
   "execution_count": 21,
   "metadata": {},
   "outputs": [],
   "source": [
    "smartphone = []\n",
    "for i in open(r\"C:\\Users\\39331\\Desktop\\Smartphone.txt\"):\n",
    "    smartphone.append(i.strip(\"\\n\"))"
   ]
  },
  {
   "cell_type": "code",
   "execution_count": 22,
   "metadata": {},
   "outputs": [],
   "source": [
    "PC = []\n",
    "for i in open(r\"C:\\Users\\39331\\Desktop\\PC.txt\"):\n",
    "    PC.append(i.strip(\"\\n\"))"
   ]
  },
  {
   "cell_type": "code",
   "execution_count": 23,
   "metadata": {},
   "outputs": [],
   "source": [
    "Console_port = []\n",
    "for i in open(r\"C:\\Users\\39331\\Desktop\\Console Portatili.txt\"):\n",
    "    Console_port.append(i.strip(\"\\n\"))"
   ]
  },
  {
   "cell_type": "code",
   "execution_count": 24,
   "metadata": {},
   "outputs": [],
   "source": [
    "def group_platform(row):\n",
    "    lista = []\n",
    "    for i in row:\n",
    "        if i['name'] in smartphone:\n",
    "            lista.append(\"Smartphone\")\n",
    "        if i['name'] in PC:\n",
    "            lista.append(\"PC\")\n",
    "        if i['name'] in Console_port:\n",
    "            lista.append(\"Console Portatili\")\n",
    "        if i['name'] not in smartphone and i['name'] not in PC and i['name'] not in Console_port:\n",
    "            lista.append(\"Console\")\n",
    "    return(lista)"
   ]
  },
  {
   "cell_type": "code",
   "execution_count": 25,
   "metadata": {},
   "outputs": [],
   "source": [
    "df['platform_grouped'] = df['platforms'].apply(group_platform)"
   ]
  },
  {
   "cell_type": "code",
   "execution_count": 26,
   "metadata": {},
   "outputs": [],
   "source": [
    "def remove_duplicates(row):\n",
    "    new_row = list(dict.fromkeys(row))\n",
    "    return(new_row)"
   ]
  },
  {
   "cell_type": "code",
   "execution_count": 27,
   "metadata": {},
   "outputs": [],
   "source": [
    "df['platform_grouped_unique'] = df['platform_grouped'].apply(remove_duplicates)"
   ]
  },
  {
   "cell_type": "code",
   "execution_count": 28,
   "metadata": {},
   "outputs": [],
   "source": [
    "def funz_descr (df):\n",
    "   if df['platform_grouped_unique'] == [\"PC\"] :\n",
    "      return 'giochi solo per PC'\n",
    "   if df['platform_grouped_unique'] == [\"Console\"] :\n",
    "      return 'giochi solo per Console'\n",
    "   if df['platform_grouped_unique'] == [\"Console Portatili\"] :\n",
    "      return 'giochi solo per Console Portatili'\n",
    "   if df['platform_grouped_unique'] == [\"Smartphone\"] :\n",
    "      return 'giochi solo per Smartphone'\n",
    "    \n",
    "   if sorted(df['platform_grouped_unique']) == sorted([\"PC\", \"Console\"]) :\n",
    "      return 'giochi per PC e Console'\n",
    "   if sorted(df['platform_grouped_unique']) == sorted([\"PC\", \"Smartphone\"]) :\n",
    "      return 'giochi per PC e Smartphone'\n",
    "   if sorted(df['platform_grouped_unique']) == sorted([\"Smartphone\", \"Console\"]) :\n",
    "      return 'giochi per Console e Smartphone'\n",
    "   if sorted(df['platform_grouped_unique']) == sorted([\"PC\", \"Console Portatili\"]) :\n",
    "      return 'giochi per PC e Console Portatili'\n",
    "   if sorted(df['platform_grouped_unique']) == sorted([\"Console\", \"Console Portatili\"]) :\n",
    "      return 'giochi per Console e Console Portatili'\n",
    "   if sorted(df['platform_grouped_unique']) == sorted([\"Smartphone\", \"Console Portatili\"]) :\n",
    "      return 'giochi per Smartphone e Console Portatili'    \n",
    "    \n",
    "   if sorted(df['platform_grouped_unique']) == sorted([\"PC\", \"Console\", \"Smartphone\"]) :\n",
    "      return 'giochi per PC, Console e Smartphone'\n",
    "   if sorted(df['platform_grouped_unique']) == sorted([\"PC\", \"Console\", \"Console Portatili\"]) :\n",
    "      return 'giochi per PC, Console e Console Portatili'\n",
    "   if sorted(df['platform_grouped_unique']) == sorted([\"PC\", \"Console Portatili\", \"Smartphone\"]) :\n",
    "      return 'giochi per PC, Console Portatili e Smartphone'\n",
    "   if sorted(df['platform_grouped_unique']) == sorted([\"Console Portatili\", \"Console\", \"Smartphone\"]) :\n",
    "      return 'giochi per Console, Console Portatili e Smartphone'\n",
    "    \n",
    "   if sorted(df['platform_grouped_unique']) == sorted([\"PC\", \"Console Portatili\", \"Console\", \"Smartphone\"]) :\n",
    "      return 'giochi per tutte le piattaforme: PC, Console, Console Portatili e Smartphone' \n",
    "    \n",
    "   return 'Other'"
   ]
  },
  {
   "cell_type": "code",
   "execution_count": 29,
   "metadata": {},
   "outputs": [],
   "source": [
    "df_col = pd.read_json(r\"C:\\Users\\39331\\Desktop\\sample.json\", lines = True)"
   ]
  },
  {
   "cell_type": "code",
   "execution_count": 30,
   "metadata": {},
   "outputs": [],
   "source": [
    "df_col['platform_description'] = df.apply (lambda madda: funz_descr(madda), axis=1)"
   ]
  },
  {
   "cell_type": "code",
   "execution_count": 31,
   "metadata": {},
   "outputs": [],
   "source": [
    "df['platforms'] = df_col['platform_description']"
   ]
  },
  {
   "cell_type": "code",
   "execution_count": 32,
   "metadata": {},
   "outputs": [],
   "source": [
    "df = df.drop(columns = ['time_to_beat', 'platform_grouped',\n",
    "                       'platform_grouped_unique'])"
   ]
  },
  {
   "cell_type": "code",
   "execution_count": 33,
   "metadata": {},
   "outputs": [
    {
     "data": {
      "text/html": [
       "<div>\n",
       "<style scoped>\n",
       "    .dataframe tbody tr th:only-of-type {\n",
       "        vertical-align: middle;\n",
       "    }\n",
       "\n",
       "    .dataframe tbody tr th {\n",
       "        vertical-align: top;\n",
       "    }\n",
       "\n",
       "    .dataframe thead th {\n",
       "        text-align: right;\n",
       "    }\n",
       "</style>\n",
       "<table border=\"1\" class=\"dataframe\">\n",
       "  <thead>\n",
       "    <tr style=\"text-align: right;\">\n",
       "      <th></th>\n",
       "      <th>characters</th>\n",
       "      <th>dlcs</th>\n",
       "      <th>game_modes</th>\n",
       "      <th>name</th>\n",
       "      <th>original_release_date</th>\n",
       "      <th>platforms</th>\n",
       "      <th>similar_games</th>\n",
       "      <th>themes</th>\n",
       "      <th>views</th>\n",
       "      <th>genres</th>\n",
       "      <th>age_rating</th>\n",
       "      <th>anno_pubblicazione</th>\n",
       "    </tr>\n",
       "  </thead>\n",
       "  <tbody>\n",
       "    <tr>\n",
       "      <td>0</td>\n",
       "      <td>più di 20</td>\n",
       "      <td>0</td>\n",
       "      <td>Gioco sia Single Player che Multiplayer</td>\n",
       "      <td>Fortnite</td>\n",
       "      <td>2016-2019</td>\n",
       "      <td>giochi per PC, Console e Smartphone</td>\n",
       "      <td>[{'name': 'CastleMiner'}, {'name': 'Minecraft'...</td>\n",
       "      <td>[{'name': 'Horror'}, {'name': 'Fantasy'}, {'na...</td>\n",
       "      <td>[{'timestamp': '2020-07-02 08:30:53', 'visuals...</td>\n",
       "      <td>[{'name': 'Shooter'}]</td>\n",
       "      <td>giochi per adolescenti</td>\n",
       "      <td>2017</td>\n",
       "    </tr>\n",
       "    <tr>\n",
       "      <td>1</td>\n",
       "      <td>più di 20</td>\n",
       "      <td>0</td>\n",
       "      <td>Gioco sia Single Player che Multiplayer</td>\n",
       "      <td>League of Legends</td>\n",
       "      <td>2000-2009</td>\n",
       "      <td>giochi solo per PC</td>\n",
       "      <td>[{'name': 'Heroes of Newerth'}, {'name': 'Infi...</td>\n",
       "      <td>[{'name': 'Fantasy'}]</td>\n",
       "      <td>[{'timestamp': '2020-07-02 08:30:53', 'visuals...</td>\n",
       "      <td>[{'name': 'MOBA'}]</td>\n",
       "      <td>giochi per adolescenti</td>\n",
       "      <td>2009</td>\n",
       "    </tr>\n",
       "    <tr>\n",
       "      <td>2</td>\n",
       "      <td>da 5 a 10</td>\n",
       "      <td>0</td>\n",
       "      <td>Gioco solo Multiplayer</td>\n",
       "      <td>Valorant</td>\n",
       "      <td>giochi usciti quest anno</td>\n",
       "      <td>giochi solo per PC</td>\n",
       "      <td>[{'name': 'Team Fortress 2'}, {'name': 'Overwa...</td>\n",
       "      <td>[{'name': 'Sci-Fi'}]</td>\n",
       "      <td>[{'timestamp': '2020-07-02 08:30:53', 'visuals...</td>\n",
       "      <td>[{'name': 'Shooter'}]</td>\n",
       "      <td>giochi per adolescenti</td>\n",
       "      <td>2020</td>\n",
       "    </tr>\n",
       "    <tr>\n",
       "      <td>3</td>\n",
       "      <td>da 1 a 5</td>\n",
       "      <td>0</td>\n",
       "      <td>Gioco sia Single Player che Multiplayer</td>\n",
       "      <td>Call of Duty: Modern Warfare</td>\n",
       "      <td>2016-2019</td>\n",
       "      <td>giochi per PC e Console</td>\n",
       "      <td>None</td>\n",
       "      <td>[{'name': 'Modern Military'}]</td>\n",
       "      <td>[{'timestamp': '2020-07-02 08:30:53', 'visuals...</td>\n",
       "      <td>[{'name': 'Shooter'}]</td>\n",
       "      <td>giochi per adulti</td>\n",
       "      <td>2019</td>\n",
       "    </tr>\n",
       "    <tr>\n",
       "      <td>4</td>\n",
       "      <td>0</td>\n",
       "      <td>1</td>\n",
       "      <td>Gioco solo Multiplayer</td>\n",
       "      <td>Counter-Strike: Global Offensive</td>\n",
       "      <td>2010-2015</td>\n",
       "      <td>giochi per PC e Console</td>\n",
       "      <td>[{'name': 'Call of Duty: Modern Warfare 3'}, {...</td>\n",
       "      <td>[{'name': 'Modern Military'}]</td>\n",
       "      <td>[{'timestamp': '2020-07-02 08:30:53', 'visuals...</td>\n",
       "      <td>[{'name': 'Shooter'}]</td>\n",
       "      <td>giochi per adulti</td>\n",
       "      <td>2012</td>\n",
       "    </tr>\n",
       "  </tbody>\n",
       "</table>\n",
       "</div>"
      ],
      "text/plain": [
       "  characters  dlcs                               game_modes  \\\n",
       "0  più di 20     0  Gioco sia Single Player che Multiplayer   \n",
       "1  più di 20     0  Gioco sia Single Player che Multiplayer   \n",
       "2  da 5 a 10     0                   Gioco solo Multiplayer   \n",
       "3   da 1 a 5     0  Gioco sia Single Player che Multiplayer   \n",
       "4          0     1                   Gioco solo Multiplayer   \n",
       "\n",
       "                               name     original_release_date  \\\n",
       "0                          Fortnite                 2016-2019   \n",
       "1                 League of Legends                 2000-2009   \n",
       "2                          Valorant  giochi usciti quest anno   \n",
       "3      Call of Duty: Modern Warfare                 2016-2019   \n",
       "4  Counter-Strike: Global Offensive                 2010-2015   \n",
       "\n",
       "                             platforms  \\\n",
       "0  giochi per PC, Console e Smartphone   \n",
       "1                   giochi solo per PC   \n",
       "2                   giochi solo per PC   \n",
       "3              giochi per PC e Console   \n",
       "4              giochi per PC e Console   \n",
       "\n",
       "                                       similar_games  \\\n",
       "0  [{'name': 'CastleMiner'}, {'name': 'Minecraft'...   \n",
       "1  [{'name': 'Heroes of Newerth'}, {'name': 'Infi...   \n",
       "2  [{'name': 'Team Fortress 2'}, {'name': 'Overwa...   \n",
       "3                                               None   \n",
       "4  [{'name': 'Call of Duty: Modern Warfare 3'}, {...   \n",
       "\n",
       "                                              themes  \\\n",
       "0  [{'name': 'Horror'}, {'name': 'Fantasy'}, {'na...   \n",
       "1                              [{'name': 'Fantasy'}]   \n",
       "2                               [{'name': 'Sci-Fi'}]   \n",
       "3                      [{'name': 'Modern Military'}]   \n",
       "4                      [{'name': 'Modern Military'}]   \n",
       "\n",
       "                                               views                 genres  \\\n",
       "0  [{'timestamp': '2020-07-02 08:30:53', 'visuals...  [{'name': 'Shooter'}]   \n",
       "1  [{'timestamp': '2020-07-02 08:30:53', 'visuals...     [{'name': 'MOBA'}]   \n",
       "2  [{'timestamp': '2020-07-02 08:30:53', 'visuals...  [{'name': 'Shooter'}]   \n",
       "3  [{'timestamp': '2020-07-02 08:30:53', 'visuals...  [{'name': 'Shooter'}]   \n",
       "4  [{'timestamp': '2020-07-02 08:30:53', 'visuals...  [{'name': 'Shooter'}]   \n",
       "\n",
       "               age_rating  anno_pubblicazione  \n",
       "0  giochi per adolescenti                2017  \n",
       "1  giochi per adolescenti                2009  \n",
       "2  giochi per adolescenti                2020  \n",
       "3       giochi per adulti                2019  \n",
       "4       giochi per adulti                2012  "
      ]
     },
     "execution_count": 33,
     "metadata": {},
     "output_type": "execute_result"
    }
   ],
   "source": [
    "df.head()"
   ]
  },
  {
   "cell_type": "code",
   "execution_count": 34,
   "metadata": {},
   "outputs": [],
   "source": [
    "df.to_json(r\"C:\\Users\\39331\\Desktop\\Integrato_cleaned.json\", lines = True, orient = \"records\")"
   ]
  }
 ],
 "metadata": {
  "kernelspec": {
   "display_name": "Python 3",
   "language": "python",
   "name": "python3"
  },
  "language_info": {
   "codemirror_mode": {
    "name": "ipython",
    "version": 3
   },
   "file_extension": ".py",
   "mimetype": "text/x-python",
   "name": "python",
   "nbconvert_exporter": "python",
   "pygments_lexer": "ipython3",
   "version": "3.7.4"
  }
 },
 "nbformat": 4,
 "nbformat_minor": 2
}
